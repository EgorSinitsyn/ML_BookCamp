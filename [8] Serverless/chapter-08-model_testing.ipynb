{
 "cells": [
  {
   "metadata": {},
   "cell_type": "markdown",
   "source": "# Подготовка изображений и тестирование модели TF Lite",
   "id": "b9fe5775096a896b"
  },
  {
   "metadata": {
    "ExecuteTime": {
     "end_time": "2024-08-03T08:03:53.377365Z",
     "start_time": "2024-08-03T08:03:52.470252Z"
    }
   },
   "cell_type": "code",
   "source": "!pip install keras_image_helper",
   "id": "cdc560f92bbb3fc3",
   "outputs": [
    {
     "name": "stdout",
     "output_type": "stream",
     "text": [
      "Requirement already satisfied: keras_image_helper in /Users/oudzhi/PycharmProjects/ML_BookCamp/.venv/lib/python3.11/site-packages (0.0.1)\r\n",
      "Requirement already satisfied: numpy in /Users/oudzhi/PycharmProjects/ML_BookCamp/.venv/lib/python3.11/site-packages (from keras_image_helper) (1.26.4)\r\n",
      "Requirement already satisfied: pillow in /Users/oudzhi/PycharmProjects/ML_BookCamp/.venv/lib/python3.11/site-packages (from keras_image_helper) (10.4.0)\r\n"
     ]
    }
   ],
   "execution_count": 1
  },
  {
   "cell_type": "code",
   "id": "initial_id",
   "metadata": {
    "collapsed": true,
    "ExecuteTime": {
     "end_time": "2024-08-03T08:03:53.599058Z",
     "start_time": "2024-08-03T08:03:53.378888Z"
    }
   },
   "source": "from keras_image_helper import create_preprocessor",
   "outputs": [],
   "execution_count": 2
  },
  {
   "metadata": {
    "ExecuteTime": {
     "end_time": "2024-08-03T08:03:53.604648Z",
     "start_time": "2024-08-03T08:03:53.601124Z"
    }
   },
   "cell_type": "code",
   "source": [
    "# Создаем функцию-препроцессинга для последующего преобразования в массив Nympy\n",
    "\n",
    "preprocessor = create_preprocessor('xception', target_size=(299, 299))"
   ],
   "id": "259b38bdfe264f69",
   "outputs": [],
   "execution_count": 3
  },
  {
   "metadata": {},
   "cell_type": "markdown",
   "source": "http://bit.ly/mlbookcamp-pants:",
   "id": "d2f4a42d36fdd1ce"
  },
  {
   "metadata": {},
   "cell_type": "markdown",
   "source": "![alt text](http://bit.ly/mlbookcamp-pants)\n",
   "id": "cde8cfa8e630602e"
  },
  {
   "metadata": {
    "ExecuteTime": {
     "end_time": "2024-08-03T08:03:55.947142Z",
     "start_time": "2024-08-03T08:03:53.607138Z"
    }
   },
   "cell_type": "code",
   "source": [
    "image_url = 'http://bit.ly/mlbookcamp-pants'\n",
    "X = preprocessor.from_url(image_url)"
   ],
   "id": "1d2653d982aea42c",
   "outputs": [],
   "execution_count": 4
  },
  {
   "metadata": {
    "ExecuteTime": {
     "end_time": "2024-08-03T08:03:55.952822Z",
     "start_time": "2024-08-03T08:03:55.948024Z"
    }
   },
   "cell_type": "code",
   "source": "X.shape",
   "id": "e07e7df3f55fc168",
   "outputs": [
    {
     "data": {
      "text/plain": [
       "(1, 299, 299, 3)"
      ]
     },
     "execution_count": 5,
     "metadata": {},
     "output_type": "execute_result"
    }
   ],
   "execution_count": 5
  },
  {
   "metadata": {},
   "cell_type": "markdown",
   "source": [
    "- 1 - количество изображений\n",
    "- 299 - высота\n",
    "- 299 - ширина\n",
    "- 3 - количество цветовых каналов: красный, зеленый и синий"
   ],
   "id": "36401f656f3f9255"
  },
  {
   "metadata": {
    "ExecuteTime": {
     "end_time": "2024-08-03T08:03:59.534630Z",
     "start_time": "2024-08-03T08:03:55.953816Z"
    }
   },
   "cell_type": "code",
   "source": [
    "import tensorflow.lite as tflite\n",
    "# import tflite_runtime.interpreter as tflite"
   ],
   "id": "2ae10067886d226e",
   "outputs": [],
   "execution_count": 6
  },
  {
   "metadata": {
    "ExecuteTime": {
     "end_time": "2024-08-03T08:03:59.751982Z",
     "start_time": "2024-08-03T08:03:59.535391Z"
    }
   },
   "cell_type": "code",
   "source": [
    "interpreter = tflite.Interpreter(model_path='clothing-model-v4.tflite') # создает интерпретатор\n",
    "interpreter.allocate_tensors() # инициализирует интерпретатор с помощью модели"
   ],
   "id": "513b7036dd5d01c0",
   "outputs": [
    {
     "name": "stderr",
     "output_type": "stream",
     "text": [
      "INFO: Created TensorFlow Lite XNNPACK delegate for CPU.\n"
     ]
    }
   ],
   "execution_count": 7
  },
  {
   "metadata": {},
   "cell_type": "markdown",
   "source": "Получаем входные данные (куда пойдет Х) и выходные данные (откуда получим прогнозы)",
   "id": "fa6e7482427be1c8"
  },
  {
   "metadata": {
    "ExecuteTime": {
     "end_time": "2024-08-03T08:03:59.754502Z",
     "start_time": "2024-08-03T08:03:59.752752Z"
    }
   },
   "cell_type": "code",
   "source": [
    "input_details = interpreter.get_input_details()\n",
    "input_index = input_details[0]['index']\n",
    "\n",
    "output_details = interpreter.get_output_details()\n",
    "output_index = output_details[0]['index']"
   ],
   "id": "890a93013cbce4cc",
   "outputs": [],
   "execution_count": 8
  },
  {
   "metadata": {},
   "cell_type": "markdown",
   "source": "Делаем предсказания:",
   "id": "297d1046a10d94d0"
  },
  {
   "metadata": {
    "ExecuteTime": {
     "end_time": "2024-08-03T08:04:00.002915Z",
     "start_time": "2024-08-03T08:03:59.755048Z"
    }
   },
   "cell_type": "code",
   "source": [
    "interpreter.set_tensor(input_index, X)\n",
    "interpreter.invoke()\n",
    "\n",
    "preds = interpreter.get_tensor(output_index)"
   ],
   "id": "6d60229384d7fdbd",
   "outputs": [],
   "execution_count": 9
  },
  {
   "metadata": {},
   "cell_type": "markdown",
   "source": "Переменная preds содержит вероятности принадлежности к каждому классу:",
   "id": "f0fbcf9a80ffd8e1"
  },
  {
   "metadata": {
    "ExecuteTime": {
     "end_time": "2024-08-03T08:04:00.007260Z",
     "start_time": "2024-08-03T08:04:00.004774Z"
    }
   },
   "cell_type": "code",
   "source": "preds",
   "id": "af436c5a9796eeac",
   "outputs": [
    {
     "data": {
      "text/plain": [
       "array([[-0.1974976, -3.2490466, -0.6165978,  0.2244904,  9.353989 ,\n",
       "        -0.6033057, -3.8435664,  4.8904605, -0.3794309, -3.1348174]],\n",
       "      dtype=float32)"
      ]
     },
     "execution_count": 10,
     "metadata": {},
     "output_type": "execute_result"
    }
   ],
   "execution_count": 10
  },
  {
   "metadata": {},
   "cell_type": "markdown",
   "source": "Конвертируем предсказания в читаемый формат:",
   "id": "748f866e75c39e95"
  },
  {
   "metadata": {
    "ExecuteTime": {
     "end_time": "2024-08-03T08:04:00.009528Z",
     "start_time": "2024-08-03T08:04:00.007761Z"
    }
   },
   "cell_type": "code",
   "source": [
    "labels = [\n",
    "    'dress',\n",
    "    'hat',\n",
    "    'longsleeve',\n",
    "    'outwear',\n",
    "    'pants',\n",
    "    'shirt',\n",
    "    'shoes',\n",
    "    'shorts',\n",
    "    'skirt',\n",
    "    't-shirt'\n",
    "]"
   ],
   "id": "2cc848cb4a9999d7",
   "outputs": [],
   "execution_count": 11
  },
  {
   "metadata": {
    "ExecuteTime": {
     "end_time": "2024-08-03T08:04:00.014013Z",
     "start_time": "2024-08-03T08:04:00.010078Z"
    }
   },
   "cell_type": "code",
   "source": [
    "results = dict(zip(labels, preds[0]))\n",
    "results"
   ],
   "id": "73524b0c68e83517",
   "outputs": [
    {
     "data": {
      "text/plain": [
       "{'dress': -0.1974976,\n",
       " 'hat': -3.2490466,\n",
       " 'longsleeve': -0.6165978,\n",
       " 'outwear': 0.2244904,\n",
       " 'pants': 9.353989,\n",
       " 'shirt': -0.6033057,\n",
       " 'shoes': -3.8435664,\n",
       " 'shorts': 4.8904605,\n",
       " 'skirt': -0.3794309,\n",
       " 't-shirt': -3.1348174}"
      ]
     },
     "execution_count": 12,
     "metadata": {},
     "output_type": "execute_result"
    }
   ],
   "execution_count": 12
  },
  {
   "metadata": {},
   "cell_type": "markdown",
   "source": "Метка pants имеет наибольшую вероятность, что означает, что модель считает, что на изображении изображены брюки.",
   "id": "d2705d87c643a087"
  },
  {
   "metadata": {
    "ExecuteTime": {
     "end_time": "2024-08-03T08:04:00.016215Z",
     "start_time": "2024-08-03T08:04:00.014494Z"
    }
   },
   "cell_type": "code",
   "source": "",
   "id": "e8553cdcf9a2c546",
   "outputs": [],
   "execution_count": 12
  }
 ],
 "metadata": {
  "kernelspec": {
   "display_name": "Python 3",
   "language": "python",
   "name": "python3"
  },
  "language_info": {
   "codemirror_mode": {
    "name": "ipython",
    "version": 2
   },
   "file_extension": ".py",
   "mimetype": "text/x-python",
   "name": "python",
   "nbconvert_exporter": "python",
   "pygments_lexer": "ipython2",
   "version": "2.7.6"
  }
 },
 "nbformat": 4,
 "nbformat_minor": 5
}
