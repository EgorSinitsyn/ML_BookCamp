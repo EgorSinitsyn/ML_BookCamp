{
 "cells": [
  {
   "metadata": {},
   "cell_type": "markdown",
   "source": "# Подготовка изображений и тестирование модели TF Lite",
   "id": "b9fe5775096a896b"
  },
  {
   "metadata": {
    "ExecuteTime": {
     "end_time": "2024-08-03T08:18:43.896437Z",
     "start_time": "2024-08-03T08:18:42.936425Z"
    }
   },
   "cell_type": "code",
   "source": "!pip install keras_image_helper",
   "id": "cdc560f92bbb3fc3",
   "outputs": [
    {
     "name": "stdout",
     "output_type": "stream",
     "text": [
      "Requirement already satisfied: keras_image_helper in /Users/oudzhi/PycharmProjects/ML_BookCamp/.venv/lib/python3.11/site-packages (0.0.1)\r\n",
      "Requirement already satisfied: numpy in /Users/oudzhi/PycharmProjects/ML_BookCamp/.venv/lib/python3.11/site-packages (from keras_image_helper) (1.26.4)\r\n",
      "Requirement already satisfied: pillow in /Users/oudzhi/PycharmProjects/ML_BookCamp/.venv/lib/python3.11/site-packages (from keras_image_helper) (10.4.0)\r\n"
     ]
    }
   ],
   "execution_count": 1
  },
  {
   "cell_type": "code",
   "id": "initial_id",
   "metadata": {
    "collapsed": true,
    "ExecuteTime": {
     "end_time": "2024-08-03T08:18:46.525441Z",
     "start_time": "2024-08-03T08:18:46.316687Z"
    }
   },
   "source": "from keras_image_helper import create_preprocessor",
   "outputs": [],
   "execution_count": 3
  },
  {
   "metadata": {
    "ExecuteTime": {
     "end_time": "2024-08-03T08:18:46.543679Z",
     "start_time": "2024-08-03T08:18:46.533723Z"
    }
   },
   "cell_type": "code",
   "source": [
    "# Создаем функцию-препроцессинга для последующего преобразования в массив Nympy\n",
    "\n",
    "preprocessor = create_preprocessor('xception', target_size=(299, 299))"
   ],
   "id": "259b38bdfe264f69",
   "outputs": [],
   "execution_count": 4
  },
  {
   "metadata": {},
   "cell_type": "markdown",
   "source": "http://bit.ly/mlbookcamp-pants:",
   "id": "d2f4a42d36fdd1ce"
  },
  {
   "metadata": {},
   "cell_type": "markdown",
   "source": "![alt text](http://bit.ly/mlbookcamp-pants)\n",
   "id": "cde8cfa8e630602e"
  },
  {
   "metadata": {
    "ExecuteTime": {
     "end_time": "2024-08-03T08:18:48.478189Z",
     "start_time": "2024-08-03T08:18:46.548780Z"
    }
   },
   "cell_type": "code",
   "source": [
    "image_url = 'http://bit.ly/mlbookcamp-pants'\n",
    "X = preprocessor.from_url(image_url)"
   ],
   "id": "1d2653d982aea42c",
   "outputs": [],
   "execution_count": 5
  },
  {
   "metadata": {
    "ExecuteTime": {
     "end_time": "2024-08-03T08:18:48.482386Z",
     "start_time": "2024-08-03T08:18:48.478910Z"
    }
   },
   "cell_type": "code",
   "source": "X.shape",
   "id": "e07e7df3f55fc168",
   "outputs": [
    {
     "data": {
      "text/plain": [
       "(1, 299, 299, 3)"
      ]
     },
     "execution_count": 6,
     "metadata": {},
     "output_type": "execute_result"
    }
   ],
   "execution_count": 6
  },
  {
   "metadata": {},
   "cell_type": "markdown",
   "source": [
    "- 1 - количество изображений\n",
    "- 299 - высота\n",
    "- 299 - ширина\n",
    "- 3 - количество цветовых каналов: красный, зеленый и синий"
   ],
   "id": "36401f656f3f9255"
  },
  {
   "metadata": {
    "ExecuteTime": {
     "end_time": "2024-08-03T08:18:52.079412Z",
     "start_time": "2024-08-03T08:18:48.483067Z"
    }
   },
   "cell_type": "code",
   "source": [
    "import tensorflow.lite as tflite # Не будет работать в AWS Lambda\n",
    "# import tflite_runtime.interpreter as tflite"
   ],
   "id": "2ae10067886d226e",
   "outputs": [],
   "execution_count": 7
  },
  {
   "metadata": {
    "ExecuteTime": {
     "end_time": "2024-08-03T08:18:52.297136Z",
     "start_time": "2024-08-03T08:18:52.080060Z"
    }
   },
   "cell_type": "code",
   "source": [
    "interpreter = tflite.Interpreter(model_path='clothing-model-v4.tflite') # создает интерпретатор\n",
    "interpreter.allocate_tensors() # инициализирует интерпретатор с помощью модели"
   ],
   "id": "513b7036dd5d01c0",
   "outputs": [
    {
     "name": "stderr",
     "output_type": "stream",
     "text": [
      "INFO: Created TensorFlow Lite XNNPACK delegate for CPU.\n"
     ]
    }
   ],
   "execution_count": 8
  },
  {
   "metadata": {},
   "cell_type": "markdown",
   "source": "Получаем входные данные (куда пойдет Х) и выходные данные (откуда получим прогнозы)",
   "id": "fa6e7482427be1c8"
  },
  {
   "metadata": {
    "ExecuteTime": {
     "end_time": "2024-08-03T08:18:52.299424Z",
     "start_time": "2024-08-03T08:18:52.297779Z"
    }
   },
   "cell_type": "code",
   "source": [
    "input_details = interpreter.get_input_details()\n",
    "input_index = input_details[0]['index']\n",
    "\n",
    "output_details = interpreter.get_output_details()\n",
    "output_index = output_details[0]['index']"
   ],
   "id": "890a93013cbce4cc",
   "outputs": [],
   "execution_count": 9
  },
  {
   "metadata": {},
   "cell_type": "markdown",
   "source": "Делаем предсказания:",
   "id": "297d1046a10d94d0"
  },
  {
   "metadata": {
    "ExecuteTime": {
     "end_time": "2024-08-03T08:18:52.536139Z",
     "start_time": "2024-08-03T08:18:52.301249Z"
    }
   },
   "cell_type": "code",
   "source": [
    "interpreter.set_tensor(input_index, X) # Помещает Х во входные данные\n",
    "interpreter.invoke() # Запускает модель для получения прогнозов\n",
    "\n",
    "preds = interpreter.get_tensor(output_index) # Получает прогнозы"
   ],
   "id": "6d60229384d7fdbd",
   "outputs": [],
   "execution_count": 10
  },
  {
   "metadata": {},
   "cell_type": "markdown",
   "source": "Переменная preds содержит вероятности принадлежности к каждому классу:",
   "id": "f0fbcf9a80ffd8e1"
  },
  {
   "metadata": {
    "ExecuteTime": {
     "end_time": "2024-08-03T08:18:52.539327Z",
     "start_time": "2024-08-03T08:18:52.536783Z"
    }
   },
   "cell_type": "code",
   "source": "preds",
   "id": "af436c5a9796eeac",
   "outputs": [
    {
     "data": {
      "text/plain": [
       "array([[-0.1974976, -3.2490466, -0.6165978,  0.2244904,  9.353989 ,\n",
       "        -0.6033057, -3.8435664,  4.8904605, -0.3794309, -3.1348174]],\n",
       "      dtype=float32)"
      ]
     },
     "execution_count": 11,
     "metadata": {},
     "output_type": "execute_result"
    }
   ],
   "execution_count": 11
  },
  {
   "metadata": {},
   "cell_type": "markdown",
   "source": "Конвертируем предсказания в читаемый формат:",
   "id": "748f866e75c39e95"
  },
  {
   "metadata": {
    "ExecuteTime": {
     "end_time": "2024-08-03T08:18:52.541352Z",
     "start_time": "2024-08-03T08:18:52.539850Z"
    }
   },
   "cell_type": "code",
   "source": [
    "labels = [\n",
    "    'dress',\n",
    "    'hat',\n",
    "    'longsleeve',\n",
    "    'outwear',\n",
    "    'pants',\n",
    "    'shirt',\n",
    "    'shoes',\n",
    "    'shorts',\n",
    "    'skirt',\n",
    "    't-shirt'\n",
    "]"
   ],
   "id": "2cc848cb4a9999d7",
   "outputs": [],
   "execution_count": 12
  },
  {
   "metadata": {
    "ExecuteTime": {
     "end_time": "2024-08-03T08:18:52.544491Z",
     "start_time": "2024-08-03T08:18:52.541930Z"
    }
   },
   "cell_type": "code",
   "source": [
    "results = dict(zip(labels, preds[0]))\n",
    "results"
   ],
   "id": "73524b0c68e83517",
   "outputs": [
    {
     "data": {
      "text/plain": [
       "{'dress': -0.1974976,\n",
       " 'hat': -3.2490466,\n",
       " 'longsleeve': -0.6165978,\n",
       " 'outwear': 0.2244904,\n",
       " 'pants': 9.353989,\n",
       " 'shirt': -0.6033057,\n",
       " 'shoes': -3.8435664,\n",
       " 'shorts': 4.8904605,\n",
       " 'skirt': -0.3794309,\n",
       " 't-shirt': -3.1348174}"
      ]
     },
     "execution_count": 13,
     "metadata": {},
     "output_type": "execute_result"
    }
   ],
   "execution_count": 13
  },
  {
   "metadata": {},
   "cell_type": "markdown",
   "source": "Метка pants имеет наибольшую вероятность, что означает, что модель считает, что на изображении изображены брюки.",
   "id": "d2705d87c643a087"
  },
  {
   "metadata": {
    "ExecuteTime": {
     "end_time": "2024-08-03T08:18:52.546398Z",
     "start_time": "2024-08-03T08:18:52.545197Z"
    }
   },
   "cell_type": "code",
   "source": "",
   "id": "e8553cdcf9a2c546",
   "outputs": [],
   "execution_count": 13
  }
 ],
 "metadata": {
  "kernelspec": {
   "display_name": "Python 3",
   "language": "python",
   "name": "python3"
  },
  "language_info": {
   "codemirror_mode": {
    "name": "ipython",
    "version": 2
   },
   "file_extension": ".py",
   "mimetype": "text/x-python",
   "name": "python",
   "nbconvert_exporter": "python",
   "pygments_lexer": "ipython2",
   "version": "2.7.6"
  }
 },
 "nbformat": 4,
 "nbformat_minor": 5
}
