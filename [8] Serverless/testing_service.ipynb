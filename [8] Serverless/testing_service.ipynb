{
 "cells": [
  {
   "cell_type": "code",
   "id": "initial_id",
   "metadata": {
    "collapsed": true,
    "ExecuteTime": {
     "end_time": "2024-08-03T09:55:11.393094Z",
     "start_time": "2024-08-03T09:55:07.901402Z"
    }
   },
   "source": [
    "import requests\n",
    "\n",
    "data = {\n",
    "    \"url\": \"http://bit.ly/mlbookcamp-pants\"\n",
    "}\n",
    "\n",
    "url = \"http://localhost:8080/2015-03-31/functions/function/invocations\"\n",
    "# url = \"https://0a1v3fyo2m.execute-api.eu-west-1.amazonaws.com/test/predict\"\n",
    "\n",
    "results = requests.post(url, json=data).json()\n",
    "\n",
    "print(results)"
   ],
   "outputs": [
    {
     "name": "stdout",
     "output_type": "stream",
     "text": [
      "{'dress': -0.19749611616134644, 'hat': -3.2490451335906982, 'longsleeve': -0.6165997982025146, 'outwear': 0.2244892418384552, 'pants': 9.35399055480957, 'shirt': -0.6033061742782593, 'shoes': -3.8435657024383545, 'shorts': 4.890457630157471, 'skirt': -0.37943100929260254, 't-shirt': -3.134817600250244}\n"
     ]
    }
   ],
   "execution_count": 1
  },
  {
   "metadata": {},
   "cell_type": "code",
   "outputs": [],
   "execution_count": null,
   "source": "",
   "id": "cd6dc1aed413549a"
  }
 ],
 "metadata": {
  "kernelspec": {
   "display_name": "Python 3",
   "language": "python",
   "name": "python3"
  },
  "language_info": {
   "codemirror_mode": {
    "name": "ipython",
    "version": 2
   },
   "file_extension": ".py",
   "mimetype": "text/x-python",
   "name": "python",
   "nbconvert_exporter": "python",
   "pygments_lexer": "ipython2",
   "version": "2.7.6"
  }
 },
 "nbformat": 4,
 "nbformat_minor": 5
}
