{
 "cells": [
  {
   "metadata": {},
   "cell_type": "markdown",
   "source": "# Развертывание модели машинного обучения",
   "id": "3c185f068e33f688"
  },
  {
   "cell_type": "code",
   "id": "initial_id",
   "metadata": {
    "collapsed": true,
    "ExecuteTime": {
     "end_time": "2024-04-25T09:42:02.592238Z",
     "start_time": "2024-04-25T09:41:59.473078Z"
    }
   },
   "source": [
    "import pandas as pd\n",
    "import numpy as np\n",
    "\n",
    "from sklearn.feature_extraction import DictVectorizer\n",
    "from sklearn.linear_model import LogisticRegression\n",
    "\n",
    "from sklearn.model_selection import train_test_split\n",
    "from sklearn.metrics import roc_auc_score"
   ],
   "outputs": [],
   "execution_count": 1
  },
  {
   "metadata": {},
   "cell_type": "markdown",
   "source": "## Предобработка данных",
   "id": "11eeccf2916dd11e"
  },
  {
   "metadata": {
    "ExecuteTime": {
     "end_time": "2024-04-25T09:42:02.684721Z",
     "start_time": "2024-04-25T09:42:02.594283Z"
    }
   },
   "cell_type": "code",
   "source": [
    "df = pd.read_csv('/Users/oudzhi/Desktop/ML/Datasets/WA_Fn-UseC_-Telco-Customer-Churn.csv')\n",
    "\n",
    "df['TotalCharges'] = pd.to_numeric(df['TotalCharges'], errors='coerce')\n",
    "df['TotalCharges'] = df['TotalCharges'].fillna(0)\n",
    "\n",
    "df.columns = df.columns.str.lower().str.replace(' ', '_')\n",
    "\n",
    "string_columns = list(df.dtypes[df.dtypes == 'object'].index)\n",
    "\n",
    "for col in string_columns:\n",
    "    df[col] = df[col].str.lower().str.replace(' ', '_')\n",
    "\n",
    "df.churn = (df.churn == 'yes').astype(int)"
   ],
   "id": "4f23d8a004e2d1d7",
   "outputs": [],
   "execution_count": 2
  },
  {
   "metadata": {
    "ExecuteTime": {
     "end_time": "2024-04-25T09:42:02.714931Z",
     "start_time": "2024-04-25T09:42:02.685865Z"
    }
   },
   "cell_type": "code",
   "source": [
    "df_train_full, df_test = train_test_split(df, test_size=0.2, random_state=1)\n",
    "\n",
    "df_train_full = df_train_full.reset_index(drop=True)\n",
    "df_test = df_test.reset_index(drop=True)\n",
    "\n",
    "df_train, df_val = train_test_split(df_train_full, test_size=0.33, random_state=11)\n",
    "\n",
    "df_train = df_train.reset_index(drop=True)\n",
    "df_val = df_val.reset_index(drop=True)\n",
    "\n",
    "y_train = df_train.churn.values\n",
    "y_val = df_val.churn.values\n",
    "\n",
    "del df_train['churn']\n",
    "del df_val['churn']"
   ],
   "id": "99609f237947280",
   "outputs": [],
   "execution_count": 3
  },
  {
   "metadata": {
    "ExecuteTime": {
     "end_time": "2024-04-25T09:42:02.728268Z",
     "start_time": "2024-04-25T09:42:02.718142Z"
    }
   },
   "cell_type": "code",
   "source": [
    "categorical = ['gender', 'seniorcitizen', 'partner', 'dependents',\n",
    "               'phoneservice', 'multiplelines', 'internetservice',\n",
    "               'onlinesecurity', 'onlinebackup', 'deviceprotection',\n",
    "               'techsupport', 'streamingtv', 'streamingmovies',\n",
    "               'contract', 'paperlessbilling', 'paymentmethod']\n",
    "numerical = ['tenure', 'monthlycharges', 'totalcharges']"
   ],
   "id": "133e9984424ae64e",
   "outputs": [],
   "execution_count": 4
  },
  {
   "metadata": {
    "ExecuteTime": {
     "end_time": "2024-04-25T09:42:02.739789Z",
     "start_time": "2024-04-25T09:42:02.733625Z"
    }
   },
   "cell_type": "code",
   "source": [
    "def train(df, y, C=1.0):\n",
    "    cat = df[categorical + numerical].to_dict(orient='records')\n",
    "    \n",
    "    dv = DictVectorizer(sparse=False)\n",
    "    dv.fit(cat)\n",
    "\n",
    "    X = dv.transform(cat)\n",
    "\n",
    "    model = LogisticRegression(solver='liblinear', C=C)\n",
    "    model.fit(X, y)\n",
    "\n",
    "    return dv, model\n",
    "\n",
    "\n",
    "def predict(df, dv, model):\n",
    "    cat = df[categorical + numerical].to_dict(orient='records')\n",
    "    \n",
    "    X = dv.transform(cat)\n",
    "\n",
    "    y_pred = model.predict_proba(X)[:, 1]\n",
    "\n",
    "    return y_pred"
   ],
   "id": "cff82804010595fc",
   "outputs": [],
   "execution_count": 5
  },
  {
   "metadata": {
    "ExecuteTime": {
     "end_time": "2024-04-25T09:42:03.102997Z",
     "start_time": "2024-04-25T09:42:02.742957Z"
    }
   },
   "cell_type": "code",
   "source": [
    "y_train = df_train_full.churn.values\n",
    "y_test = df_test.churn.values\n",
    "\n",
    "dv, model = train(df_train_full, y_train, C=0.5)\n",
    "y_pred = predict(df_test, dv, model)\n",
    "\n",
    "auc = roc_auc_score(y_test, y_pred)\n",
    "print('auc = %.3f' % auc)"
   ],
   "id": "61ba5e944946abfd",
   "outputs": [
    {
     "name": "stdout",
     "output_type": "stream",
     "text": [
      "auc = 0.858\n"
     ]
    }
   ],
   "execution_count": 6
  },
  {
   "metadata": {
    "ExecuteTime": {
     "end_time": "2024-04-25T09:42:03.119614Z",
     "start_time": "2024-04-25T09:42:03.104982Z"
    }
   },
   "cell_type": "code",
   "source": [
    "# Воспользуемся этой моделью для расчета вероятности оттока для следующего клиента :\n",
    "\n",
    "customer = {\n",
    "    'customerid': '8879-zkjof',\n",
    "    'gender': 'female',\n",
    "    'seniorcitizen': 0,\n",
    "    'partner': 'no',\n",
    "    'dependents': 'no',\n",
    "    'tenure': 41,\n",
    "    'phoneservice': 'yes',\n",
    "    'multiplelines': 'no',\n",
    "    'internetservice': 'dsl',\n",
    "    'onlinesecurity': 'yes',\n",
    "    'onlinebackup': 'no',\n",
    "    'deviceprotection': 'yes',\n",
    "    'techsupport': 'yes',\n",
    "    'streamingtv': 'yes',\n",
    "    'streamingmovies': 'yes',\n",
    "    'contract': 'one_year',\n",
    "    'paperlessbilling': 'yes',\n",
    "    'paymentmethod': 'bank_transfer_(automatic)',\n",
    "    'monthlycharges': 79.85,\n",
    "    'totalcharges': 3320.75\n",
    "}"
   ],
   "id": "35c9caf6468e7b45",
   "outputs": [],
   "execution_count": 7
  },
  {
   "metadata": {
    "ExecuteTime": {
     "end_time": "2024-04-25T09:42:03.137938Z",
     "start_time": "2024-04-25T09:42:03.122059Z"
    }
   },
   "cell_type": "code",
   "source": [
    "# Делаем прогноз:\n",
    "\n",
    "df = pd.DataFrame([customer])\n",
    "y_pred = predict(df, dv, model)\n",
    "y_pred[0]"
   ],
   "id": "a7cd23624cf3857",
   "outputs": [
    {
     "data": {
      "text/plain": [
       "0.059605601876230506"
      ]
     },
     "execution_count": 8,
     "metadata": {},
     "output_type": "execute_result"
    }
   ],
   "execution_count": 8
  },
  {
   "metadata": {},
   "cell_type": "markdown",
   "source": "Вероятность оттока для этого клиента составляет 0.0596",
   "id": "f69b78d2c01dc068"
  },
  {
   "metadata": {
    "ExecuteTime": {
     "end_time": "2024-04-25T09:42:03.145341Z",
     "start_time": "2024-04-25T09:42:03.140051Z"
    }
   },
   "cell_type": "code",
   "source": [
    "# Функция для применения прогнозов в проверочном наборе. Становится неэффективной для применения к одному клиенту\n",
    "def predict(df, dv, model):\n",
    "    cat = df[categorical + numerical].to_dict(orient='rows')\n",
    "    X = dv.transform(cat)\n",
    "    y_pred = model.predict_proba(X)[:, 1]\n",
    "    return y_pred"
   ],
   "id": "e2e48b43e86e8a4e",
   "outputs": [],
   "execution_count": 9
  },
  {
   "metadata": {
    "ExecuteTime": {
     "end_time": "2024-04-25T09:42:03.156042Z",
     "start_time": "2024-04-25T09:42:03.149888Z"
    }
   },
   "cell_type": "code",
   "source": [
    "# Чтобы избежать ненужного преобразования, переделаем функцию для прогноза по единственному клиенту\n",
    "def predict_single(customer, dv, model):\n",
    "    X = dv.transform([customer])\n",
    "    y_pred = model.predict_proba(X)[:, 1]\n",
    "    return y_pred[0]"
   ],
   "id": "a34cf3333cba5d13",
   "outputs": [],
   "execution_count": 10
  },
  {
   "metadata": {
    "ExecuteTime": {
     "end_time": "2024-04-25T09:42:03.167119Z",
     "start_time": "2024-04-25T09:42:03.159279Z"
    }
   },
   "cell_type": "code",
   "source": [
    "# Делаем прогноз:\n",
    "predict_single(customer, dv, model)"
   ],
   "id": "23f8a2253d0d41b",
   "outputs": [
    {
     "data": {
      "text/plain": [
       "0.059605601876230506"
      ]
     },
     "execution_count": 11,
     "metadata": {},
     "output_type": "execute_result"
    }
   ],
   "execution_count": 11
  },
  {
   "metadata": {},
   "cell_type": "markdown",
   "source": "## Использование Pickle для сохранения и загрузки модели",
   "id": "91d2822ac983a824"
  },
  {
   "metadata": {},
   "cell_type": "markdown",
   "source": "### Сохранение модели",
   "id": "42e9a8d914a22946"
  },
  {
   "metadata": {
    "ExecuteTime": {
     "end_time": "2024-04-25T09:42:03.174159Z",
     "start_time": "2024-04-25T09:42:03.168440Z"
    }
   },
   "cell_type": "code",
   "source": [
    "import pickle \n",
    "\n",
    "with open('churn-model.bin', 'wb') as f_out: # Указывает файл, в который мы хотим сохранить. 'wb' - запись в двоичном формате\n",
    "    pickle.dump((dv, model), f_out) # Объект, который мы сохранили представляет собой кортеж из двух элементов: DictVectorizer и Модель"
   ],
   "id": "e3322076549603ce",
   "outputs": [],
   "execution_count": 12
  },
  {
   "metadata": {},
   "cell_type": "markdown",
   "source": "### Загрузка модели",
   "id": "5f7d62eb5f2a634d"
  },
  {
   "metadata": {
    "ExecuteTime": {
     "end_time": "2024-04-25T09:42:03.182334Z",
     "start_time": "2024-04-25T09:42:03.177311Z"
    }
   },
   "cell_type": "code",
   "source": [
    "# with open('churn-model.bin' , 'rb') as f_in: # открываем файл в режиме чтения\n",
    "#     dv, model = pickle.load(f_in) # Загружает кортеж и распаковывает его"
   ],
   "id": "1350e014befec593",
   "outputs": [],
   "execution_count": 13
  },
  {
   "metadata": {},
   "cell_type": "markdown",
   "source": "## POST-запрос к сервису Flask ('churn_serving_simple.py')",
   "id": "dad0586e2fb32686"
  },
  {
   "metadata": {
    "ExecuteTime": {
     "end_time": "2024-04-25T09:42:03.446782Z",
     "start_time": "2024-04-25T09:42:03.190517Z"
    }
   },
   "cell_type": "code",
   "source": [
    "import requests\n",
    "url = 'http://localhost:9696/predict'\n",
    "response = requests.post(url, json=customer)\n",
    "result = response.json()\n",
    "result"
   ],
   "id": "aff8b323795c6b4c",
   "outputs": [
    {
     "data": {
      "text/plain": [
       "{'churn': False, 'churn_probability': 0.059605601876230506}"
      ]
     },
     "execution_count": 14,
     "metadata": {},
     "output_type": "execute_result"
    }
   ],
   "execution_count": 14
  },
  {
   "metadata": {
    "ExecuteTime": {
     "end_time": "2024-04-25T09:42:03.453421Z",
     "start_time": "2024-04-25T09:42:03.449774Z"
    }
   },
   "cell_type": "code",
   "source": "",
   "id": "d6a039f92529ece2",
   "outputs": [],
   "execution_count": 14
  }
 ],
 "metadata": {
  "kernelspec": {
   "display_name": "Python 3",
   "language": "python",
   "name": "python3"
  },
  "language_info": {
   "codemirror_mode": {
    "name": "ipython",
    "version": 2
   },
   "file_extension": ".py",
   "mimetype": "text/x-python",
   "name": "python",
   "nbconvert_exporter": "python",
   "pygments_lexer": "ipython2",
   "version": "2.7.6"
  }
 },
 "nbformat": 4,
 "nbformat_minor": 5
}
