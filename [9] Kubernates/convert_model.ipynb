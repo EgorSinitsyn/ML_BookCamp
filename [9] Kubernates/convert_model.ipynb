{
 "cells": [
  {
   "metadata": {},
   "cell_type": "markdown",
   "source": "# Формат saved_model",
   "id": "c609f57e79fa60c2"
  },
  {
   "metadata": {},
   "cell_type": "markdown",
   "source": "Преобразовываем модель из формата .keras в формат .saved_model",
   "id": "d6de157cf11b11af"
  },
  {
   "cell_type": "code",
   "id": "initial_id",
   "metadata": {
    "collapsed": true,
    "ExecuteTime": {
     "end_time": "2024-08-07T10:11:15.623290Z",
     "start_time": "2024-08-07T10:11:09.483575Z"
    }
   },
   "source": [
    "import tensorflow as tf\n",
    "from tensorflow import keras"
   ],
   "outputs": [],
   "execution_count": 1
  },
  {
   "metadata": {
    "ExecuteTime": {
     "end_time": "2024-08-07T10:11:51.123588Z",
     "start_time": "2024-08-07T10:11:50.625437Z"
    }
   },
   "cell_type": "code",
   "source": "model = keras.models.load_model('../[7] Neural_Nets/Clothing_Classification/xception_v4_large_04_0.880.keras')",
   "id": "ca8dad137ddc1e90",
   "outputs": [],
   "execution_count": 2
  },
  {
   "metadata": {
    "ExecuteTime": {
     "end_time": "2024-08-07T10:12:18.913410Z",
     "start_time": "2024-08-07T10:12:17.452347Z"
    }
   },
   "cell_type": "code",
   "source": "tf.saved_model.save(model, 'clothing-model')",
   "id": "ad6e56fe4ffd3194",
   "outputs": [
    {
     "name": "stdout",
     "output_type": "stream",
     "text": [
      "INFO:tensorflow:Assets written to: clothing-model/assets\n"
     ]
    },
    {
     "name": "stderr",
     "output_type": "stream",
     "text": [
      "INFO:tensorflow:Assets written to: clothing-model/assets\n"
     ]
    }
   ],
   "execution_count": 3
  },
  {
   "metadata": {},
   "cell_type": "markdown",
   "source": "saved_model_cli show --dir clothing-model --all ",
   "id": "e2deaeebb18bbf25"
  },
  {
   "metadata": {},
   "cell_type": "code",
   "outputs": [],
   "execution_count": null,
   "source": [
    "# signature_def['serving_default']:\n",
    "#   The given SavedModel SignatureDef contains the following input(s):\n",
    "#     inputs['inputs'] tensor_info: \n",
    "#         dtype: DT_FLOAT\n",
    "#         shape: (-1, 299, 299, 3)\n",
    "#         name: serving_default_inputs:0\n",
    "#   The given SavedModel SignatureDef contains the following output(s):\n",
    "#     outputs['output_0'] tensor_info: \n",
    "#         dtype: DT_FLOAT\n",
    "#         shape: (-1, 10)\n",
    "#         name: StatefulPartitionedCall:0\n",
    "#   Method name is: tensorflow/serving/predict\n"
   ],
   "id": "9bc117db166035b7"
  },
  {
   "metadata": {},
   "cell_type": "markdown",
   "source": [
    "- inputs - имя входа\n",
    "- output_0 - имя выхода"
   ],
   "id": "5ad977247b959ff5"
  },
  {
   "metadata": {},
   "cell_type": "code",
   "outputs": [],
   "execution_count": null,
   "source": "",
   "id": "460e36de3251f5be"
  }
 ],
 "metadata": {
  "kernelspec": {
   "display_name": "Python 3",
   "language": "python",
   "name": "python3"
  },
  "language_info": {
   "codemirror_mode": {
    "name": "ipython",
    "version": 2
   },
   "file_extension": ".py",
   "mimetype": "text/x-python",
   "name": "python",
   "nbconvert_exporter": "python",
   "pygments_lexer": "ipython2",
   "version": "2.7.6"
  }
 },
 "nbformat": 4,
 "nbformat_minor": 5
}
