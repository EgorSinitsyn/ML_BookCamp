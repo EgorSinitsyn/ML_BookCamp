{
 "cells": [
  {
   "metadata": {
    "ExecuteTime": {
     "end_time": "2024-08-07T20:32:16.815771Z",
     "start_time": "2024-08-07T20:32:12.222071Z"
    }
   },
   "cell_type": "code",
   "source": [
    "import grpc\n",
    "import tensorflow as tf\n",
    "import numpy as np\n",
    "\n",
    "from tensorflow_serving.apis import predict_pb2\n",
    "from tensorflow_serving.apis import prediction_service_pb2_grpc"
   ],
   "id": "6f56134b8c4c839d",
   "outputs": [],
   "execution_count": 1
  },
  {
   "metadata": {},
   "cell_type": "markdown",
   "source": [
    "Мы импортировали:\n",
    "- `grpc` для связи с TF Serving\n",
    "- `tensorflow` для определений protobuf\n",
    "- пару функций из TF Serving"
   ],
   "id": "d4524cec8f61ee28"
  },
  {
   "metadata": {
    "ExecuteTime": {
     "end_time": "2024-08-07T20:32:49.578404Z",
     "start_time": "2024-08-07T20:32:49.558982Z"
    }
   },
   "cell_type": "code",
   "source": [
    "# Определяем подключение к сервису:\n",
    "\n",
    "host = 'localhost:8500'\n",
    "channel = grpc.insecure_channel(host)\n",
    "stub = prediction_service_pb2_grpc.PredictionServiceStub(channel)"
   ],
   "id": "6ad0166cf6637163",
   "outputs": [],
   "execution_count": 3
  },
  {
   "metadata": {},
   "cell_type": "markdown",
   "source": "Предварительная обработка изображений:",
   "id": "36fd0c68199ebe54"
  },
  {
   "metadata": {
    "ExecuteTime": {
     "end_time": "2024-08-07T20:32:51.869693Z",
     "start_time": "2024-08-07T20:32:51.854827Z"
    }
   },
   "cell_type": "code",
   "source": [
    "from keras_image_helper import create_preprocessor\n",
    "\n",
    "preprocessor = create_preprocessor('xception', target_size=(299, 299))"
   ],
   "id": "d7cef8bad3f579b5",
   "outputs": [],
   "execution_count": 4
  },
  {
   "metadata": {
    "ExecuteTime": {
     "end_time": "2024-08-07T20:32:55.917733Z",
     "start_time": "2024-08-07T20:32:52.848409Z"
    }
   },
   "cell_type": "code",
   "source": [
    "# Преобразовываем в массив Numpy\n",
    "url = \"http://bit.ly/mlbookcamp-pants\"\n",
    "X = preprocessor.from_url(url)\n",
    "print(\"Loaded data:\", X)"
   ],
   "id": "2fcfdb2442c29379",
   "outputs": [
    {
     "name": "stdout",
     "output_type": "stream",
     "text": [
      "Loaded data: [[[[-0.11372548 -0.15294117 -0.19999999]\n",
      "   [-0.11372548 -0.15294117 -0.19999999]\n",
      "   [-0.10588235 -0.14509803 -0.19215685]\n",
      "   ...\n",
      "   [-0.01960784 -0.01960784 -0.08235294]\n",
      "   [-0.04313725 -0.04313725 -0.10588235]\n",
      "   [-0.11372548 -0.11372548 -0.17647058]]\n",
      "\n",
      "  [[-0.09019607 -0.12941176 -0.17647058]\n",
      "   [-0.09019607 -0.12941176 -0.17647058]\n",
      "   [-0.08235294 -0.12156862 -0.16862744]\n",
      "   ...\n",
      "   [-0.01960784 -0.01960784 -0.08235294]\n",
      "   [-0.04313725 -0.04313725 -0.10588235]\n",
      "   [-0.10588235 -0.10588235 -0.16862744]]\n",
      "\n",
      "  [[-0.09803921 -0.1372549  -0.18431371]\n",
      "   [-0.09803921 -0.1372549  -0.18431371]\n",
      "   [-0.09019607 -0.12941176 -0.17647058]\n",
      "   ...\n",
      "   [-0.01960784 -0.01960784 -0.08235294]\n",
      "   [-0.03529412 -0.03529412 -0.09803921]\n",
      "   [-0.09019607 -0.09019607 -0.15294117]]\n",
      "\n",
      "  ...\n",
      "\n",
      "  [[-0.67058825 -0.7019608  -0.7254902 ]\n",
      "   [-0.6862745  -0.7176471  -0.7411765 ]\n",
      "   [-0.70980394 -0.7411765  -0.7647059 ]\n",
      "   ...\n",
      "   [-0.62352943 -0.84313726 -0.9529412 ]\n",
      "   [-0.6313726  -0.8509804  -0.9607843 ]\n",
      "   [-0.6392157  -0.85882354 -0.96862745]]\n",
      "\n",
      "  [[-0.52156866 -0.5529412  -0.5764706 ]\n",
      "   [-0.52156866 -0.5529412  -0.5764706 ]\n",
      "   [-0.5137255  -0.54509807 -0.5686275 ]\n",
      "   ...\n",
      "   [-0.5921569  -0.8117647  -0.92156863]\n",
      "   [-0.6        -0.81960785 -0.92941177]\n",
      "   [-0.60784316 -0.827451   -0.9372549 ]]\n",
      "\n",
      "  [[-0.62352943 -0.654902   -0.6784314 ]\n",
      "   [-0.6156863  -0.64705884 -0.67058825]\n",
      "   [-0.60784316 -0.6392157  -0.6627451 ]\n",
      "   ...\n",
      "   [-0.5686275  -0.79607844 -0.90588236]\n",
      "   [-0.5764706  -0.8039216  -0.9137255 ]\n",
      "   [-0.58431375 -0.8117647  -0.92156863]]]]\n"
     ]
    }
   ],
   "execution_count": 5
  },
  {
   "metadata": {
    "ExecuteTime": {
     "end_time": "2024-08-07T20:32:59.010078Z",
     "start_time": "2024-08-07T20:32:59.006303Z"
    }
   },
   "cell_type": "code",
   "source": [
    "print(\"Type of X:\", type(X))\n",
    "print(\"Shape of X:\", X.shape)\n",
    "print(\"Dtype of X:\", X.dtype)"
   ],
   "id": "368467f5ffa07bf8",
   "outputs": [
    {
     "name": "stdout",
     "output_type": "stream",
     "text": [
      "Type of X: <class 'numpy.ndarray'>\n",
      "Shape of X: (1, 299, 299, 3)\n",
      "Dtype of X: float32\n"
     ]
    }
   ],
   "execution_count": 6
  },
  {
   "metadata": {
    "ExecuteTime": {
     "end_time": "2024-08-07T20:32:59.555229Z",
     "start_time": "2024-08-07T20:32:59.552706Z"
    }
   },
   "cell_type": "code",
   "source": [
    "# Для gRPC нам необходимо преобразовать массив Numpy в protobuf c помощью специальной функции:\n",
    "\n",
    "def np_to_protobuf(data):\n",
    "    return tf.make_tensor_proto(data, shape=data.shape)"
   ],
   "id": "98c84a7a1a84e1dd",
   "outputs": [],
   "execution_count": 7
  },
  {
   "metadata": {
    "ExecuteTime": {
     "end_time": "2024-08-07T20:33:00.045708Z",
     "start_time": "2024-08-07T20:33:00.019670Z"
    }
   },
   "cell_type": "code",
   "source": [
    "pb_request = predict_pb2.PredictRequest()\n",
    "\n",
    "pb_request.model_spec.name = 'clothing-model'\n",
    "pb_request.model_spec.signature_name = 'serving_default'\n",
    "pb_request.inputs['inputs'].CopyFrom(np_to_protobuf(X)) "
   ],
   "id": "bd21a9bc00d2a1b2",
   "outputs": [],
   "execution_count": 8
  },
  {
   "metadata": {
    "ExecuteTime": {
     "end_time": "2024-08-07T20:33:03.793131Z",
     "start_time": "2024-08-07T20:33:02.999427Z"
    }
   },
   "cell_type": "code",
   "source": "pb_result = stub.Predict(pb_request, timeout=20.0)",
   "id": "84d070fdd747a9fc",
   "outputs": [
    {
     "ename": "_InactiveRpcError",
     "evalue": "<_InactiveRpcError of RPC that terminated with:\n\tstatus = StatusCode.FAILED_PRECONDITION\n\tdetails = \"Could not find variable block4_sepconv1_bn/moving_variance. This could mean that the variable has been deleted. In TF1, it can also mean the variable is uninitialized. Debug info: container=localhost, status=Not found: Resource localhost/block4_sepconv1_bn/moving_variance/N10tensorflow3VarE does not exist.\n\t [[{{node functional_16_1/xception_1/block4_sepconv1_bn_1/Cast_1/ReadVariableOp}}]]\"\n\tdebug_error_string = \"UNKNOWN:Error received from peer ipv6:%5B::1%5D:8500 {created_time:\"2024-08-07T23:33:03.461176+03:00\", grpc_status:9, grpc_message:\"Could not find variable block4_sepconv1_bn/moving_variance. This could mean that the variable has been deleted. In TF1, it can also mean the variable is uninitialized. Debug info: container=localhost, status=Not found: Resource localhost/block4_sepconv1_bn/moving_variance/N10tensorflow3VarE does not exist.\\n\\t [[{{node functional_16_1/xception_1/block4_sepconv1_bn_1/Cast_1/ReadVariableOp}}]]\"}\"\n>",
     "output_type": "error",
     "traceback": [
      "\u001B[0;31m---------------------------------------------------------------------------\u001B[0m",
      "\u001B[0;31m_InactiveRpcError\u001B[0m                         Traceback (most recent call last)",
      "Cell \u001B[0;32mIn[9], line 1\u001B[0m\n\u001B[0;32m----> 1\u001B[0m pb_result \u001B[38;5;241m=\u001B[39m \u001B[43mstub\u001B[49m\u001B[38;5;241;43m.\u001B[39;49m\u001B[43mPredict\u001B[49m\u001B[43m(\u001B[49m\u001B[43mpb_request\u001B[49m\u001B[43m,\u001B[49m\u001B[43m \u001B[49m\u001B[43mtimeout\u001B[49m\u001B[38;5;241;43m=\u001B[39;49m\u001B[38;5;241;43m20.0\u001B[39;49m\u001B[43m)\u001B[49m\n",
      "File \u001B[0;32m~/PycharmProjects/ML_BookCamp/.venv/lib/python3.11/site-packages/grpc/_channel.py:1181\u001B[0m, in \u001B[0;36m_UnaryUnaryMultiCallable.__call__\u001B[0;34m(self, request, timeout, metadata, credentials, wait_for_ready, compression)\u001B[0m\n\u001B[1;32m   1166\u001B[0m \u001B[38;5;28;01mdef\u001B[39;00m \u001B[38;5;21m__call__\u001B[39m(\n\u001B[1;32m   1167\u001B[0m     \u001B[38;5;28mself\u001B[39m,\n\u001B[1;32m   1168\u001B[0m     request: Any,\n\u001B[0;32m   (...)\u001B[0m\n\u001B[1;32m   1173\u001B[0m     compression: Optional[grpc\u001B[38;5;241m.\u001B[39mCompression] \u001B[38;5;241m=\u001B[39m \u001B[38;5;28;01mNone\u001B[39;00m,\n\u001B[1;32m   1174\u001B[0m ) \u001B[38;5;241m-\u001B[39m\u001B[38;5;241m>\u001B[39m Any:\n\u001B[1;32m   1175\u001B[0m     (\n\u001B[1;32m   1176\u001B[0m         state,\n\u001B[1;32m   1177\u001B[0m         call,\n\u001B[1;32m   1178\u001B[0m     ) \u001B[38;5;241m=\u001B[39m \u001B[38;5;28mself\u001B[39m\u001B[38;5;241m.\u001B[39m_blocking(\n\u001B[1;32m   1179\u001B[0m         request, timeout, metadata, credentials, wait_for_ready, compression\n\u001B[1;32m   1180\u001B[0m     )\n\u001B[0;32m-> 1181\u001B[0m     \u001B[38;5;28;01mreturn\u001B[39;00m \u001B[43m_end_unary_response_blocking\u001B[49m\u001B[43m(\u001B[49m\u001B[43mstate\u001B[49m\u001B[43m,\u001B[49m\u001B[43m \u001B[49m\u001B[43mcall\u001B[49m\u001B[43m,\u001B[49m\u001B[43m \u001B[49m\u001B[38;5;28;43;01mFalse\u001B[39;49;00m\u001B[43m,\u001B[49m\u001B[43m \u001B[49m\u001B[38;5;28;43;01mNone\u001B[39;49;00m\u001B[43m)\u001B[49m\n",
      "File \u001B[0;32m~/PycharmProjects/ML_BookCamp/.venv/lib/python3.11/site-packages/grpc/_channel.py:1006\u001B[0m, in \u001B[0;36m_end_unary_response_blocking\u001B[0;34m(state, call, with_call, deadline)\u001B[0m\n\u001B[1;32m   1004\u001B[0m         \u001B[38;5;28;01mreturn\u001B[39;00m state\u001B[38;5;241m.\u001B[39mresponse\n\u001B[1;32m   1005\u001B[0m \u001B[38;5;28;01melse\u001B[39;00m:\n\u001B[0;32m-> 1006\u001B[0m     \u001B[38;5;28;01mraise\u001B[39;00m _InactiveRpcError(state)\n",
      "\u001B[0;31m_InactiveRpcError\u001B[0m: <_InactiveRpcError of RPC that terminated with:\n\tstatus = StatusCode.FAILED_PRECONDITION\n\tdetails = \"Could not find variable block4_sepconv1_bn/moving_variance. This could mean that the variable has been deleted. In TF1, it can also mean the variable is uninitialized. Debug info: container=localhost, status=Not found: Resource localhost/block4_sepconv1_bn/moving_variance/N10tensorflow3VarE does not exist.\n\t [[{{node functional_16_1/xception_1/block4_sepconv1_bn_1/Cast_1/ReadVariableOp}}]]\"\n\tdebug_error_string = \"UNKNOWN:Error received from peer ipv6:%5B::1%5D:8500 {created_time:\"2024-08-07T23:33:03.461176+03:00\", grpc_status:9, grpc_message:\"Could not find variable block4_sepconv1_bn/moving_variance. This could mean that the variable has been deleted. In TF1, it can also mean the variable is uninitialized. Debug info: container=localhost, status=Not found: Resource localhost/block4_sepconv1_bn/moving_variance/N10tensorflow3VarE does not exist.\\n\\t [[{{node functional_16_1/xception_1/block4_sepconv1_bn_1/Cast_1/ReadVariableOp}}]]\"}\"\n>"
     ]
    }
   ],
   "execution_count": 9
  },
  {
   "metadata": {},
   "cell_type": "code",
   "source": [
    "# # используем функцию для подготовки запроса gRPC:\n",
    "# pb_request = predict_pb2.PredictRequest() # Если есть один элемент, то использовать один элемент\n",
    "# \n",
    "# # Установка имени модели и сигнатуры\n",
    "# pb_request.model_spec.name = 'clothing-model' # Устанавливает имя модели в clohing-model\n",
    "# pb_request.model_spec.signature_name = 'serving_default' # Задает имя сигнатуры\n",
    "# \n",
    "# # Подготовка входных данных\n",
    "# X = np.random.random((1, 299, 299, 3)).astype(np.float32)  # Пример входного массива c преобразованием в float32\n",
    "# pb_request.inputs['inputs'].CopyFrom(np_to_protobuf(X)) # преобразует массив в protobuf\n",
    "# \n",
    "# # Создание канала и stub\n",
    "# channel = grpc.insecure_channel('localhost:8500')\n",
    "# stub = prediction_service_pb2_grpc.PredictionServiceStub(channel)\n",
    "# \n",
    "# # Выполнение запроса\n",
    "# try:\n",
    "#     pb_result = stub.Predict(pb_request, timeout=20.0)\n",
    "#     print(\"Prediction result:\", pb_result)\n",
    "# except grpc.RpcError as e:\n",
    "#     print(f\"gRPC error: {e.code()} - {e.details()}\")"
   ],
   "id": "89cba72ba94adad2",
   "outputs": [],
   "execution_count": null
  },
  {
   "metadata": {},
   "cell_type": "code",
   "source": "",
   "id": "72507890c1f3754d",
   "outputs": [],
   "execution_count": null
  },
  {
   "metadata": {
    "ExecuteTime": {
     "end_time": "2024-08-07T20:34:46.079077Z",
     "start_time": "2024-08-07T20:34:46.027496Z"
    }
   },
   "cell_type": "code",
   "source": [
    "import grpc\n",
    "from tensorflow_serving.apis import prediction_service_pb2_grpc, predict_pb2\n",
    "import tensorflow as tf\n",
    "import numpy as np\n",
    "\n",
    "# Определяем подключение к сервису\n",
    "host = 'localhost:8500'\n",
    "channel = grpc.insecure_channel(host)\n",
    "stub = prediction_service_pb2_grpc.PredictionServiceStub(channel)\n",
    "\n",
    "# Функция для преобразования numpy массива в protobuf\n",
    "def np_to_protobuf(data):\n",
    "    return tf.make_tensor_proto(data, dtype=tf.float32)\n",
    "\n",
    "# Создаем запрос\n",
    "pb_request = predict_pb2.PredictRequest()\n",
    "pb_request.model_spec.name = 'clothing-model'\n",
    "pb_request.model_spec.signature_name = 'serving_default'\n",
    "\n",
    "# Замените X на ваши данные\n",
    "X = np.random.rand(1, 299, 299, 3).astype(np.float32)  # Пример случайных данных\n",
    "\n",
    "pb_request.inputs['inputs'].CopyFrom(np_to_protobuf(X))\n",
    "\n",
    "# Отправляем запрос\n",
    "try:\n",
    "    pb_result = stub.Predict(pb_request, timeout=20.0)\n",
    "    print(pb_result)\n",
    "except grpc.RpcError as e:\n",
    "    print(f\"Error: {e.code()}, {e.details()}\")\n"
   ],
   "id": "b296151fc754733c",
   "outputs": [
    {
     "name": "stdout",
     "output_type": "stream",
     "text": [
      "Error: StatusCode.FAILED_PRECONDITION, Could not find variable block4_sepconv1_bn/moving_variance. This could mean that the variable has been deleted. In TF1, it can also mean the variable is uninitialized. Debug info: container=localhost, status=Not found: Resource localhost/block4_sepconv1_bn/moving_variance/N10tensorflow3VarE does not exist.\n",
      "\t [[{{node functional_16_1/xception_1/block4_sepconv1_bn_1/Cast_1/ReadVariableOp}}]]\n"
     ]
    }
   ],
   "execution_count": 10
  },
  {
   "metadata": {
    "ExecuteTime": {
     "end_time": "2024-08-07T21:06:57.001066Z",
     "start_time": "2024-08-07T21:06:53.483435Z"
    }
   },
   "cell_type": "code",
   "source": [
    "import grpc\n",
    "import tensorflow as tf\n",
    "from tensorflow_serving.apis import predict_pb2\n",
    "from tensorflow_serving.apis import prediction_service_pb2_grpc\n",
    "from keras_image_helper import create_preprocessor\n",
    "\n",
    "# Создание клиента gRPC\n",
    "host = 'localhost:8500'\n",
    "channel = grpc.insecure_channel(host)\n",
    "stub = prediction_service_pb2_grpc.PredictionServiceStub(channel)\n",
    "\n",
    "# Создание препроцессора\n",
    "preprocessor = create_preprocessor('xception', target_size=(299, 299))\n",
    "\n",
    "# Загрузка и преобразование данных\n",
    "url = \"http://bit.ly/mlbookcamp-pants\"\n",
    "X = preprocessor.from_url(url)\n",
    "\n",
    "# Преобразование numpy массива в protobuf\n",
    "def np_to_protobuf(data):\n",
    "    return tf.make_tensor_proto(data, shape=data.shape)\n",
    "\n",
    "# Создание запроса\n",
    "pb_request = predict_pb2.PredictRequest()\n",
    "pb_request.model_spec.name = 'clothing-model'\n",
    "pb_request.model_spec.signature_name = 'serving_default'\n",
    "pb_request.inputs['input_layer_34'].CopyFrom(np_to_protobuf(X))\n",
    "\n",
    "# Отправка запроса и получение результата\n",
    "try:\n",
    "    pb_result = stub.Predict(pb_request, timeout=20.0)\n",
    "    print(\"Prediction result:\", pb_result)\n",
    "except grpc.RpcError as e:\n",
    "    print(\"gRPC error:\", e.code())\n",
    "    print(\"Details:\", e.details())\n"
   ],
   "id": "de76f0d67ab3733b",
   "outputs": [
    {
     "name": "stdout",
     "output_type": "stream",
     "text": [
      "Prediction result: model_spec {\n",
      "  name: \"clothing-model\"\n",
      "  version {\n",
      "    value: 1\n",
      "  }\n",
      "  signature_name: \"serving_default\"\n",
      "}\n",
      "outputs {\n",
      "  key: \"output_0\"\n",
      "  value {\n",
      "    dtype: DT_FLOAT\n",
      "    tensor_shape {\n",
      "      dim {\n",
      "        size: 1\n",
      "      }\n",
      "      dim {\n",
      "        size: 10\n",
      "      }\n",
      "    }\n",
      "    float_val: -0.19749479\n",
      "    float_val: -3.24904633\n",
      "    float_val: -0.616598964\n",
      "    float_val: 0.224490911\n",
      "    float_val: 9.35398865\n",
      "    float_val: -0.603306174\n",
      "    float_val: -3.84356332\n",
      "    float_val: 4.89045572\n",
      "    float_val: -0.379429489\n",
      "    float_val: -3.13481736\n",
      "  }\n",
      "}\n",
      "\n"
     ]
    }
   ],
   "execution_count": 13
  },
  {
   "metadata": {},
   "cell_type": "code",
   "outputs": [],
   "execution_count": null,
   "source": "",
   "id": "a18b89ed0ab08b56"
  }
 ],
 "metadata": {
  "kernelspec": {
   "display_name": "Python 3",
   "language": "python",
   "name": "python3"
  },
  "language_info": {
   "codemirror_mode": {
    "name": "ipython",
    "version": 2
   },
   "file_extension": ".py",
   "mimetype": "text/x-python",
   "name": "python",
   "nbconvert_exporter": "python",
   "pygments_lexer": "ipython2",
   "version": "2.7.6"
  }
 },
 "nbformat": 4,
 "nbformat_minor": 5
}
