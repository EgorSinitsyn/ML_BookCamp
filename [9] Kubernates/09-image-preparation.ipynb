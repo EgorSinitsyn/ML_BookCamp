{
 "cells": [
  {
   "metadata": {
    "ExecuteTime": {
     "end_time": "2024-08-07T12:10:43.011454Z",
     "start_time": "2024-08-07T12:10:43.004951Z"
    }
   },
   "cell_type": "code",
   "source": [
    "import grpc\n",
    "import tensorflow as tf\n",
    "import numpy as np\n",
    "\n",
    "from tensorflow_serving.apis import predict_pb2\n",
    "from tensorflow_serving.apis import prediction_service_pb2_grpc"
   ],
   "id": "6f56134b8c4c839d",
   "outputs": [],
   "execution_count": 13
  },
  {
   "metadata": {},
   "cell_type": "markdown",
   "source": [
    "Мы импортировали:\n",
    "- `grpc` для связи с TF Serving\n",
    "- `tensorflow` для определений protobuf\n",
    "- пару функций из TF Serving"
   ],
   "id": "d4524cec8f61ee28"
  },
  {
   "metadata": {
    "ExecuteTime": {
     "end_time": "2024-08-07T12:10:44.275006Z",
     "start_time": "2024-08-07T12:10:44.272122Z"
    }
   },
   "cell_type": "code",
   "source": [
    "# Определяем подключение к сервису:\n",
    "\n",
    "host = 'localhost:8502'\n",
    "channel = grpc.insecure_channel(host)\n",
    "stub = prediction_service_pb2_grpc.PredictionServiceStub(channel)"
   ],
   "id": "6ad0166cf6637163",
   "outputs": [],
   "execution_count": 14
  },
  {
   "metadata": {},
   "cell_type": "markdown",
   "source": "Предварительная обработка изображений:",
   "id": "36fd0c68199ebe54"
  },
  {
   "metadata": {
    "ExecuteTime": {
     "end_time": "2024-08-07T12:10:46.270848Z",
     "start_time": "2024-08-07T12:10:46.267922Z"
    }
   },
   "cell_type": "code",
   "source": [
    "from keras_image_helper import create_preprocessor\n",
    "\n",
    "preprocessor = create_preprocessor('xception', target_size=(299, 299))"
   ],
   "id": "d7cef8bad3f579b5",
   "outputs": [],
   "execution_count": 15
  },
  {
   "metadata": {
    "ExecuteTime": {
     "end_time": "2024-08-07T12:10:48.601426Z",
     "start_time": "2024-08-07T12:10:46.752008Z"
    }
   },
   "cell_type": "code",
   "source": [
    "# Преобразовываем в массив Numpy\n",
    "url = \"http://bit.ly/mlbookcamp-pants\"\n",
    "X = preprocessor.from_url(url)\n",
    "print(\"Loaded data:\", X)"
   ],
   "id": "2fcfdb2442c29379",
   "outputs": [
    {
     "name": "stdout",
     "output_type": "stream",
     "text": [
      "Loaded data: [[[[-0.11372548 -0.15294117 -0.19999999]\n",
      "   [-0.11372548 -0.15294117 -0.19999999]\n",
      "   [-0.10588235 -0.14509803 -0.19215685]\n",
      "   ...\n",
      "   [-0.01960784 -0.01960784 -0.08235294]\n",
      "   [-0.04313725 -0.04313725 -0.10588235]\n",
      "   [-0.11372548 -0.11372548 -0.17647058]]\n",
      "\n",
      "  [[-0.09019607 -0.12941176 -0.17647058]\n",
      "   [-0.09019607 -0.12941176 -0.17647058]\n",
      "   [-0.08235294 -0.12156862 -0.16862744]\n",
      "   ...\n",
      "   [-0.01960784 -0.01960784 -0.08235294]\n",
      "   [-0.04313725 -0.04313725 -0.10588235]\n",
      "   [-0.10588235 -0.10588235 -0.16862744]]\n",
      "\n",
      "  [[-0.09803921 -0.1372549  -0.18431371]\n",
      "   [-0.09803921 -0.1372549  -0.18431371]\n",
      "   [-0.09019607 -0.12941176 -0.17647058]\n",
      "   ...\n",
      "   [-0.01960784 -0.01960784 -0.08235294]\n",
      "   [-0.03529412 -0.03529412 -0.09803921]\n",
      "   [-0.09019607 -0.09019607 -0.15294117]]\n",
      "\n",
      "  ...\n",
      "\n",
      "  [[-0.67058825 -0.7019608  -0.7254902 ]\n",
      "   [-0.6862745  -0.7176471  -0.7411765 ]\n",
      "   [-0.70980394 -0.7411765  -0.7647059 ]\n",
      "   ...\n",
      "   [-0.62352943 -0.84313726 -0.9529412 ]\n",
      "   [-0.6313726  -0.8509804  -0.9607843 ]\n",
      "   [-0.6392157  -0.85882354 -0.96862745]]\n",
      "\n",
      "  [[-0.52156866 -0.5529412  -0.5764706 ]\n",
      "   [-0.52156866 -0.5529412  -0.5764706 ]\n",
      "   [-0.5137255  -0.54509807 -0.5686275 ]\n",
      "   ...\n",
      "   [-0.5921569  -0.8117647  -0.92156863]\n",
      "   [-0.6        -0.81960785 -0.92941177]\n",
      "   [-0.60784316 -0.827451   -0.9372549 ]]\n",
      "\n",
      "  [[-0.62352943 -0.654902   -0.6784314 ]\n",
      "   [-0.6156863  -0.64705884 -0.67058825]\n",
      "   [-0.60784316 -0.6392157  -0.6627451 ]\n",
      "   ...\n",
      "   [-0.5686275  -0.79607844 -0.90588236]\n",
      "   [-0.5764706  -0.8039216  -0.9137255 ]\n",
      "   [-0.58431375 -0.8117647  -0.92156863]]]]\n"
     ]
    }
   ],
   "execution_count": 16
  },
  {
   "metadata": {
    "ExecuteTime": {
     "end_time": "2024-08-07T12:10:53.045513Z",
     "start_time": "2024-08-07T12:10:53.039861Z"
    }
   },
   "cell_type": "code",
   "source": [
    "print(\"Type of X:\", type(X))\n",
    "print(\"Shape of X:\", X.shape)\n",
    "print(\"Dtype of X:\", X.dtype)"
   ],
   "id": "368467f5ffa07bf8",
   "outputs": [
    {
     "name": "stdout",
     "output_type": "stream",
     "text": [
      "Type of X: <class 'numpy.ndarray'>\n",
      "Shape of X: (1, 299, 299, 3)\n",
      "Dtype of X: float32\n"
     ]
    }
   ],
   "execution_count": 17
  },
  {
   "metadata": {},
   "cell_type": "code",
   "source": [
    "# # Для gRPC нам необходимо преобразовать массив Numpy в protobuf c помощью специальной функции:\n",
    "# \n",
    "# def np_to_protobuf(data):\n",
    "#     return tf.make_tensor_proto(data, shape=data.shape)"
   ],
   "id": "98c84a7a1a84e1dd",
   "outputs": [],
   "execution_count": null
  },
  {
   "metadata": {},
   "cell_type": "code",
   "source": [
    "# pb_request = predict_pb2.PredictRequest()\n",
    "# \n",
    "# pb_request.model_spec.name = 'clothing-model'\n",
    "# pb_request.model_spec.signature_name = 'serving_default'\n",
    "# pb_request.inputs['inputs'].CopyFrom(np_to_protobuf(X)) "
   ],
   "id": "bd21a9bc00d2a1b2",
   "outputs": [],
   "execution_count": null
  },
  {
   "metadata": {},
   "cell_type": "code",
   "source": "# pb_result = stub.Predict(pb_request, timeout=20.0)",
   "id": "84d070fdd747a9fc",
   "outputs": [],
   "execution_count": null
  },
  {
   "metadata": {},
   "cell_type": "code",
   "source": [
    "# # используем функцию для подготовки запроса gRPC:\n",
    "# pb_request = predict_pb2.PredictRequest() # Если есть один элемент, то использовать один элемент\n",
    "# \n",
    "# # Установка имени модели и сигнатуры\n",
    "# pb_request.model_spec.name = 'clothing-model' # Устанавливает имя модели в clohing-model\n",
    "# pb_request.model_spec.signature_name = 'serving_default' # Задает имя сигнатуры\n",
    "# \n",
    "# # Подготовка входных данных\n",
    "# X = np.random.random((1, 299, 299, 3)).astype(np.float32)  # Пример входного массива c преобразованием в float32\n",
    "# pb_request.inputs['inputs'].CopyFrom(np_to_protobuf(X)) # преобразует массив в protobuf\n",
    "# \n",
    "# # Создание канала и stub\n",
    "# channel = grpc.insecure_channel('localhost:8500')\n",
    "# stub = prediction_service_pb2_grpc.PredictionServiceStub(channel)\n",
    "# \n",
    "# # Выполнение запроса\n",
    "# try:\n",
    "#     pb_result = stub.Predict(pb_request, timeout=20.0)\n",
    "#     print(\"Prediction result:\", pb_result)\n",
    "# except grpc.RpcError as e:\n",
    "#     print(f\"gRPC error: {e.code()} - {e.details()}\")"
   ],
   "id": "89cba72ba94adad2",
   "outputs": [],
   "execution_count": null
  },
  {
   "metadata": {},
   "cell_type": "code",
   "source": "",
   "id": "72507890c1f3754d",
   "outputs": [],
   "execution_count": null
  },
  {
   "metadata": {
    "ExecuteTime": {
     "end_time": "2024-08-07T12:12:48.615278Z",
     "start_time": "2024-08-07T12:12:48.536545Z"
    }
   },
   "cell_type": "code",
   "source": [
    "import grpc\n",
    "from tensorflow_serving.apis import prediction_service_pb2_grpc, predict_pb2\n",
    "import tensorflow as tf\n",
    "import numpy as np\n",
    "\n",
    "# Определяем подключение к сервису\n",
    "host = 'localhost:8502'\n",
    "channel = grpc.insecure_channel(host)\n",
    "stub = prediction_service_pb2_grpc.PredictionServiceStub(channel)\n",
    "\n",
    "# Функция для преобразования numpy массива в protobuf\n",
    "def np_to_protobuf(data):\n",
    "    return tf.make_tensor_proto(data, dtype=tf.float32)\n",
    "\n",
    "# Создаем запрос\n",
    "pb_request = predict_pb2.PredictRequest()\n",
    "pb_request.model_spec.name = 'clothing-model'\n",
    "pb_request.model_spec.signature_name = 'serving_default'\n",
    "\n",
    "# Замените X на ваши данные\n",
    "X = np.random.rand(1, 299, 299, 3).astype(np.float32)  # Пример случайных данных\n",
    "\n",
    "pb_request.inputs['inputs'].CopyFrom(np_to_protobuf(X))\n",
    "\n",
    "# Отправляем запрос\n",
    "try:\n",
    "    pb_result = stub.Predict(pb_request, timeout=20.0)\n",
    "    print(pb_result)\n",
    "except grpc.RpcError as e:\n",
    "    print(f\"Error: {e.code()}, {e.details()}\")\n"
   ],
   "id": "b296151fc754733c",
   "outputs": [
    {
     "name": "stdout",
     "output_type": "stream",
     "text": [
      "Error: StatusCode.FAILED_PRECONDITION, Could not find variable block14_sepconv1_bn/moving_mean. This could mean that the variable has been deleted. In TF1, it can also mean the variable is uninitialized. Debug info: container=localhost, status=Not found: Resource localhost/block14_sepconv1_bn/moving_mean/N10tensorflow3VarE does not exist.\n",
      "\t [[{{node functional_16_1/xception_1/block14_sepconv1_bn_1/Cast/ReadVariableOp}}]]\n"
     ]
    }
   ],
   "execution_count": 19
  },
  {
   "metadata": {},
   "cell_type": "code",
   "source": "",
   "id": "de76f0d67ab3733b",
   "outputs": [],
   "execution_count": null
  }
 ],
 "metadata": {
  "kernelspec": {
   "display_name": "Python 3",
   "language": "python",
   "name": "python3"
  },
  "language_info": {
   "codemirror_mode": {
    "name": "ipython",
    "version": 2
   },
   "file_extension": ".py",
   "mimetype": "text/x-python",
   "name": "python",
   "nbconvert_exporter": "python",
   "pygments_lexer": "ipython2",
   "version": "2.7.6"
  }
 },
 "nbformat": 4,
 "nbformat_minor": 5
}
