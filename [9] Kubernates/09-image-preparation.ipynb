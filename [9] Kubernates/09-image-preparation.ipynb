{
 "cells": [
  {
   "metadata": {
    "ExecuteTime": {
     "end_time": "2024-08-08T06:51:21.248189Z",
     "start_time": "2024-08-08T06:51:16.969795Z"
    }
   },
   "cell_type": "code",
   "source": [
    "import grpc\n",
    "import tensorflow as tf\n",
    "import numpy as np\n",
    "\n",
    "from tensorflow_serving.apis import predict_pb2\n",
    "from tensorflow_serving.apis import prediction_service_pb2_grpc\n",
    "\n",
    "from keras_image_helper import create_preprocessor"
   ],
   "id": "6f56134b8c4c839d",
   "outputs": [],
   "execution_count": 1
  },
  {
   "metadata": {},
   "cell_type": "markdown",
   "source": [
    "Мы импортировали:\n",
    "- `grpc` для связи с TF Serving\n",
    "- `tensorflow` для определений protobuf\n",
    "- пару функций из TF Serving"
   ],
   "id": "d4524cec8f61ee28"
  },
  {
   "metadata": {
    "ExecuteTime": {
     "end_time": "2024-08-08T06:51:21.255085Z",
     "start_time": "2024-08-08T06:51:21.249196Z"
    }
   },
   "cell_type": "code",
   "source": [
    "# Определяем подключение к сервису:\n",
    "\n",
    "host = 'localhost:8500'\n",
    "channel = grpc.insecure_channel(host)\n",
    "stub = prediction_service_pb2_grpc.PredictionServiceStub(channel)"
   ],
   "id": "6ad0166cf6637163",
   "outputs": [],
   "execution_count": 2
  },
  {
   "metadata": {},
   "cell_type": "markdown",
   "source": "Предварительная обработка изображений:",
   "id": "36fd0c68199ebe54"
  },
  {
   "metadata": {
    "ExecuteTime": {
     "end_time": "2024-08-08T06:51:21.257725Z",
     "start_time": "2024-08-08T06:51:21.255574Z"
    }
   },
   "cell_type": "code",
   "source": [
    "from keras_image_helper import create_preprocessor\n",
    "\n",
    "preprocessor = create_preprocessor('xception', target_size=(299, 299))"
   ],
   "id": "d7cef8bad3f579b5",
   "outputs": [],
   "execution_count": 3
  },
  {
   "metadata": {
    "ExecuteTime": {
     "end_time": "2024-08-08T06:51:23.734424Z",
     "start_time": "2024-08-08T06:51:21.258808Z"
    }
   },
   "cell_type": "code",
   "source": [
    "# Преобразовываем в массив Numpy\n",
    "url = \"http://bit.ly/mlbookcamp-pants\"\n",
    "X = preprocessor.from_url(url)\n",
    "\n",
    "print(\"Loaded data:\", X)"
   ],
   "id": "2fcfdb2442c29379",
   "outputs": [
    {
     "name": "stdout",
     "output_type": "stream",
     "text": [
      "Loaded data: [[[[-0.11372548 -0.15294117 -0.19999999]\n",
      "   [-0.11372548 -0.15294117 -0.19999999]\n",
      "   [-0.10588235 -0.14509803 -0.19215685]\n",
      "   ...\n",
      "   [-0.01960784 -0.01960784 -0.08235294]\n",
      "   [-0.04313725 -0.04313725 -0.10588235]\n",
      "   [-0.11372548 -0.11372548 -0.17647058]]\n",
      "\n",
      "  [[-0.09019607 -0.12941176 -0.17647058]\n",
      "   [-0.09019607 -0.12941176 -0.17647058]\n",
      "   [-0.08235294 -0.12156862 -0.16862744]\n",
      "   ...\n",
      "   [-0.01960784 -0.01960784 -0.08235294]\n",
      "   [-0.04313725 -0.04313725 -0.10588235]\n",
      "   [-0.10588235 -0.10588235 -0.16862744]]\n",
      "\n",
      "  [[-0.09803921 -0.1372549  -0.18431371]\n",
      "   [-0.09803921 -0.1372549  -0.18431371]\n",
      "   [-0.09019607 -0.12941176 -0.17647058]\n",
      "   ...\n",
      "   [-0.01960784 -0.01960784 -0.08235294]\n",
      "   [-0.03529412 -0.03529412 -0.09803921]\n",
      "   [-0.09019607 -0.09019607 -0.15294117]]\n",
      "\n",
      "  ...\n",
      "\n",
      "  [[-0.67058825 -0.7019608  -0.7254902 ]\n",
      "   [-0.6862745  -0.7176471  -0.7411765 ]\n",
      "   [-0.70980394 -0.7411765  -0.7647059 ]\n",
      "   ...\n",
      "   [-0.62352943 -0.84313726 -0.9529412 ]\n",
      "   [-0.6313726  -0.8509804  -0.9607843 ]\n",
      "   [-0.6392157  -0.85882354 -0.96862745]]\n",
      "\n",
      "  [[-0.52156866 -0.5529412  -0.5764706 ]\n",
      "   [-0.52156866 -0.5529412  -0.5764706 ]\n",
      "   [-0.5137255  -0.54509807 -0.5686275 ]\n",
      "   ...\n",
      "   [-0.5921569  -0.8117647  -0.92156863]\n",
      "   [-0.6        -0.81960785 -0.92941177]\n",
      "   [-0.60784316 -0.827451   -0.9372549 ]]\n",
      "\n",
      "  [[-0.62352943 -0.654902   -0.6784314 ]\n",
      "   [-0.6156863  -0.64705884 -0.67058825]\n",
      "   [-0.60784316 -0.6392157  -0.6627451 ]\n",
      "   ...\n",
      "   [-0.5686275  -0.79607844 -0.90588236]\n",
      "   [-0.5764706  -0.8039216  -0.9137255 ]\n",
      "   [-0.58431375 -0.8117647  -0.92156863]]]]\n"
     ]
    }
   ],
   "execution_count": 4
  },
  {
   "metadata": {
    "ExecuteTime": {
     "end_time": "2024-08-08T06:51:23.738679Z",
     "start_time": "2024-08-08T06:51:23.735942Z"
    }
   },
   "cell_type": "code",
   "source": [
    "print(\"Type of X:\", type(X))\n",
    "print(\"Shape of X:\", X.shape)\n",
    "print(\"Dtype of X:\", X.dtype)"
   ],
   "id": "368467f5ffa07bf8",
   "outputs": [
    {
     "name": "stdout",
     "output_type": "stream",
     "text": [
      "Type of X: <class 'numpy.ndarray'>\n",
      "Shape of X: (1, 299, 299, 3)\n",
      "Dtype of X: float32\n"
     ]
    }
   ],
   "execution_count": 5
  },
  {
   "metadata": {
    "ExecuteTime": {
     "end_time": "2024-08-08T06:51:23.742712Z",
     "start_time": "2024-08-08T06:51:23.740343Z"
    }
   },
   "cell_type": "code",
   "source": [
    "# Для gRPC нам необходимо преобразовать массив Numpy в protobuf c помощью специальной функции:\n",
    "\n",
    "def np_to_protobuf(data):\n",
    "    return tf.make_tensor_proto(data, shape=data.shape)"
   ],
   "id": "98c84a7a1a84e1dd",
   "outputs": [],
   "execution_count": 6
  },
  {
   "metadata": {
    "ExecuteTime": {
     "end_time": "2024-08-08T06:51:23.747499Z",
     "start_time": "2024-08-08T06:51:23.744049Z"
    }
   },
   "cell_type": "code",
   "source": [
    "pb_request = predict_pb2.PredictRequest()\n",
    "\n",
    "pb_request.model_spec.name = 'clothing-model'\n",
    "pb_request.model_spec.signature_name = 'serving_default'\n",
    "pb_request.inputs['input_layer_34'].CopyFrom(np_to_protobuf(X))"
   ],
   "id": "bd21a9bc00d2a1b2",
   "outputs": [],
   "execution_count": 7
  },
  {
   "metadata": {
    "ExecuteTime": {
     "end_time": "2024-08-08T06:51:25.080802Z",
     "start_time": "2024-08-08T06:51:23.748530Z"
    }
   },
   "cell_type": "code",
   "source": [
    "# Отправка запроса и получение результата\n",
    "try:\n",
    "    pb_result = stub.Predict(pb_request, timeout=20.0)\n",
    "    print(\"Prediction result:\", pb_result)\n",
    "except grpc.RpcError as e:\n",
    "    print(\"gRPC error:\", e.code())\n",
    "    print(\"Details:\", e.details())"
   ],
   "id": "84d070fdd747a9fc",
   "outputs": [
    {
     "name": "stdout",
     "output_type": "stream",
     "text": [
      "Prediction result: model_spec {\n",
      "  name: \"clothing-model\"\n",
      "  version {\n",
      "    value: 1\n",
      "  }\n",
      "  signature_name: \"serving_default\"\n",
      "}\n",
      "outputs {\n",
      "  key: \"output_0\"\n",
      "  value {\n",
      "    dtype: DT_FLOAT\n",
      "    tensor_shape {\n",
      "      dim {\n",
      "        size: 1\n",
      "      }\n",
      "      dim {\n",
      "        size: 10\n",
      "      }\n",
      "    }\n",
      "    float_val: -0.19749479\n",
      "    float_val: -3.24904633\n",
      "    float_val: -0.616598964\n",
      "    float_val: 0.224490911\n",
      "    float_val: 9.35398865\n",
      "    float_val: -0.603306174\n",
      "    float_val: -3.84356332\n",
      "    float_val: 4.89045572\n",
      "    float_val: -0.379429489\n",
      "    float_val: -3.13481736\n",
      "  }\n",
      "}\n",
      "\n"
     ]
    }
   ],
   "execution_count": 8
  },
  {
   "metadata": {
    "ExecuteTime": {
     "end_time": "2024-08-08T06:55:03.750756Z",
     "start_time": "2024-08-08T06:55:03.720674Z"
    }
   },
   "cell_type": "code",
   "source": [
    "# Делаем прогноз:\n",
    "\n",
    "pred = pb_result.outputs['output_0'].float_val"
   ],
   "id": "a18b89ed0ab08b56",
   "outputs": [],
   "execution_count": 10
  },
  {
   "metadata": {
    "ExecuteTime": {
     "end_time": "2024-08-08T06:55:31.118918Z",
     "start_time": "2024-08-08T06:55:31.096510Z"
    }
   },
   "cell_type": "code",
   "source": [
    "# Переводим в более читабельный формат:\n",
    "\n",
    "labels = [\n",
    "    'dress',\n",
    "    'hat',\n",
    "    'longsleeve',\n",
    "    'outwear',\n",
    "    'pants',\n",
    "    'shirt',\n",
    "    'shoes',\n",
    "    'shorts',\n",
    "    'skirt',\n",
    "    't-shirt'\n",
    "] \n",
    "\n",
    "result = {c: p for c, p in zip(labels, pred)}"
   ],
   "id": "d3b937184678b12d",
   "outputs": [],
   "execution_count": 11
  },
  {
   "metadata": {
    "ExecuteTime": {
     "end_time": "2024-08-08T06:55:36.579809Z",
     "start_time": "2024-08-08T06:55:36.544878Z"
    }
   },
   "cell_type": "code",
   "source": "result",
   "id": "77aacf7451c57f3d",
   "outputs": [
    {
     "data": {
      "text/plain": [
       "{'dress': -0.19749478995800018,\n",
       " 'hat': -3.2490463256835938,\n",
       " 'longsleeve': -0.6165989637374878,\n",
       " 'outwear': 0.2244909107685089,\n",
       " 'pants': 9.353988647460938,\n",
       " 'shirt': -0.6033061742782593,\n",
       " 'shoes': -3.8435633182525635,\n",
       " 'shorts': 4.890455722808838,\n",
       " 'skirt': -0.37942948937416077,\n",
       " 't-shirt': -3.134817361831665}"
      ]
     },
     "execution_count": 12,
     "metadata": {},
     "output_type": "execute_result"
    }
   ],
   "execution_count": 12
  },
  {
   "metadata": {},
   "cell_type": "code",
   "outputs": [],
   "execution_count": null,
   "source": "",
   "id": "c7aa7732032ec078"
  }
 ],
 "metadata": {
  "kernelspec": {
   "display_name": "Python 3",
   "language": "python",
   "name": "python3"
  },
  "language_info": {
   "codemirror_mode": {
    "name": "ipython",
    "version": 2
   },
   "file_extension": ".py",
   "mimetype": "text/x-python",
   "name": "python",
   "nbconvert_exporter": "python",
   "pygments_lexer": "ipython2",
   "version": "2.7.6"
  }
 },
 "nbformat": 4,
 "nbformat_minor": 5
}
