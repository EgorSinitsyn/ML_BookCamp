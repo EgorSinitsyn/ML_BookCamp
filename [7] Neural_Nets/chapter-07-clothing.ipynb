{
 "cells": [
  {
   "metadata": {},
   "cell_type": "markdown",
   "source": "# Сlothing classification",
   "id": "93c35fc6f7ea891b"
  },
  {
   "cell_type": "code",
   "id": "initial_id",
   "metadata": {
    "collapsed": true,
    "ExecuteTime": {
     "end_time": "2024-07-17T17:57:23.106855Z",
     "start_time": "2024-07-17T17:57:22.355574Z"
    }
   },
   "source": [
    "import numpy as np\n",
    "import pandas as pd\n",
    "\n",
    "import matplotlib.pyplot as plt\n",
    "%matplotlib inline"
   ],
   "outputs": [],
   "execution_count": 1
  },
  {
   "metadata": {
    "ExecuteTime": {
     "end_time": "2024-07-17T17:57:26.529274Z",
     "start_time": "2024-07-17T17:57:23.107784Z"
    }
   },
   "cell_type": "code",
   "source": [
    "import tensorflow as tf\n",
    "from tensorflow import keras"
   ],
   "id": "dc6086f157dae12d",
   "outputs": [],
   "execution_count": 2
  },
  {
   "metadata": {
    "ExecuteTime": {
     "end_time": "2024-07-17T17:59:09.653193Z",
     "start_time": "2024-07-17T17:58:29.195691Z"
    }
   },
   "cell_type": "code",
   "source": "!git clone https://github.com/alexeygrigorev/clothing-dataset-small.git",
   "id": "207cf8a9409faa6f",
   "outputs": [
    {
     "name": "stdout",
     "output_type": "stream",
     "text": [
      "Cloning into 'clothing-dataset-small'...\r\n",
      "remote: Enumerating objects: 3839, done.\u001B[K\r\n",
      "remote: Counting objects: 100% (400/400), done.\u001B[K\r\n",
      "remote: Compressing objects: 100% (400/400), done.\u001B[K\r\n",
      "remote: Total 3839 (delta 9), reused 385 (delta 0), pack-reused 3439\u001B[K\r\n",
      "Receiving objects: 100% (3839/3839), 100.58 MiB | 2.65 MiB/s, done.\r\n",
      "Resolving deltas: 100% (10/10), done.\r\n"
     ]
    }
   ],
   "execution_count": 3
  },
  {
   "metadata": {},
   "cell_type": "code",
   "outputs": [],
   "execution_count": null,
   "source": "",
   "id": "35a9f5a6e8650c0b"
  }
 ],
 "metadata": {
  "kernelspec": {
   "display_name": "Python 3",
   "language": "python",
   "name": "python3"
  },
  "language_info": {
   "codemirror_mode": {
    "name": "ipython",
    "version": 2
   },
   "file_extension": ".py",
   "mimetype": "text/x-python",
   "name": "python",
   "nbconvert_exporter": "python",
   "pygments_lexer": "ipython2",
   "version": "2.7.6"
  }
 },
 "nbformat": 4,
 "nbformat_minor": 5
}
