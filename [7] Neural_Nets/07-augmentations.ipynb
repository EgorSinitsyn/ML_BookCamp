{
 "cells": [
  {
   "metadata": {},
   "cell_type": "markdown",
   "source": "# Расширение данных (Data augmentation)",
   "id": "874d13f5c312dc06"
  },
  {
   "metadata": {},
   "cell_type": "markdown",
   "source": [
    "Для улучшения качества нашей модели, мы можем увеличить количество данных.\n",
    "\n",
    "В данном примере мы сгенерируем данные из уже существующих.\n",
    "\n",
    "Например:\n",
    "- отразить изображение по вертикали и горизонтали\n",
    "- повернуть изображение\n",
    "- немного увеличить или уменьшить масштаб\n",
    "- изменить изображение другими шумами"
   ],
   "id": "ea6c1622632b47ad"
  },
  {
   "cell_type": "code",
   "execution_count": null,
   "id": "initial_id",
   "metadata": {
    "collapsed": true
   },
   "outputs": [],
   "source": [
    ""
   ]
  }
 ],
 "metadata": {
  "kernelspec": {
   "display_name": "Python 3",
   "language": "python",
   "name": "python3"
  },
  "language_info": {
   "codemirror_mode": {
    "name": "ipython",
    "version": 2
   },
   "file_extension": ".py",
   "mimetype": "text/x-python",
   "name": "python",
   "nbconvert_exporter": "python",
   "pygments_lexer": "ipython2",
   "version": "2.7.6"
  }
 },
 "nbformat": 4,
 "nbformat_minor": 5
}
